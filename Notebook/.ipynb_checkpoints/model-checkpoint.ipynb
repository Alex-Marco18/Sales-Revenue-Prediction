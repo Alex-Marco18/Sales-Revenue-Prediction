{
 "cells": [
  {
   "cell_type": "code",
   "execution_count": 1,
   "id": "bb196305",
   "metadata": {},
   "outputs": [],
   "source": [
    "import pandas as pd \n",
    "import numpy as np \n",
    "import matplotlib.pyplot as plt \n",
    "import seaborn as sns "
   ]
  },
  {
   "cell_type": "code",
   "execution_count": 11,
   "id": "24973f77",
   "metadata": {},
   "outputs": [
    {
     "name": "stderr",
     "output_type": "stream",
     "text": [
      "C:\\Users\\Alex Marco\\AppData\\Local\\Temp\\ipykernel_13656\\2323191276.py:2: DtypeWarning: Columns (7) have mixed types. Specify dtype option on import or set low_memory=False.\n",
      "  train = pd.read_csv(r'C:\\Users\\Alex Marco\\Downloads\\Sales-Revenue-Projects\\Data\\raw\\train.csv',\n"
     ]
    },
    {
     "name": "stdout",
     "output_type": "stream",
     "text": [
      "(1017209, 18)\n"
     ]
    },
    {
     "data": {
      "text/plain": [
       "Store                             0\n",
       "DayOfWeek                         0\n",
       "Date                              0\n",
       "Sales                             0\n",
       "Customers                         0\n",
       "Open                              0\n",
       "Promo                             0\n",
       "StateHoliday                      0\n",
       "SchoolHoliday                     0\n",
       "StoreType                         0\n",
       "Assortment                        0\n",
       "CompetitionDistance            2642\n",
       "CompetitionOpenSinceMonth    323348\n",
       "CompetitionOpenSinceYear     323348\n",
       "Promo2                            0\n",
       "Promo2SinceWeek              508031\n",
       "Promo2SinceYear              508031\n",
       "PromoInterval                508031\n",
       "dtype: int64"
      ]
     },
     "execution_count": 11,
     "metadata": {},
     "output_type": "execute_result"
    }
   ],
   "source": [
    "## Load Data\n",
    "train = pd.read_csv(r'C:\\Users\\Alex Marco\\Downloads\\Sales-Revenue-Projects\\Data\\raw\\train.csv', \n",
    "                    parse_dates=['Date'])\n",
    "test = pd.read_csv(r'C:\\Users\\Alex Marco\\Downloads\\Sales-Revenue-Projects\\Data\\raw\\test.csv', \n",
    "                   parse_dates=['Date']) \n",
    "store = pd.read_csv(r'C:\\Users\\Alex Marco\\Downloads\\Sales-Revenue-Projects\\Data\\raw\\store.csv')\n",
    "\n",
    "\n",
    "## merge supplementary store data with Store\n",
    "df = train.merge(store,on='Store', how='left')\n",
    "\n",
    "## print top 5 rows and describe\n",
    "print(df.shape)\n",
    "df.head(5)\n",
    "df['Sales'].describe()\n",
    "\n",
    "## Check for missing Value\n",
    "df.isna().sum()"
   ]
  },
  {
   "cell_type": "code",
   "execution_count": null,
   "id": "2315d796",
   "metadata": {},
   "outputs": [],
   "source": []
  }
 ],
 "metadata": {
  "kernelspec": {
   "display_name": "Python 3 (ipykernel)",
   "language": "python",
   "name": "python3"
  },
  "language_info": {
   "codemirror_mode": {
    "name": "ipython",
    "version": 3
   },
   "file_extension": ".py",
   "mimetype": "text/x-python",
   "name": "python",
   "nbconvert_exporter": "python",
   "pygments_lexer": "ipython3",
   "version": "3.13.1"
  }
 },
 "nbformat": 4,
 "nbformat_minor": 5
}
